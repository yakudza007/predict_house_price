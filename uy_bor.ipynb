{
 "cells": [
  {
   "cell_type": "code",
   "execution_count": 1,
   "id": "783b3b26-33c3-49ee-b244-11aaa5f55d99",
   "metadata": {},
   "outputs": [],
   "source": [
    "import pandas as pd"
   ]
  },
  {
   "cell_type": "code",
   "execution_count": 2,
   "id": "c15d7174-866e-4dc6-9647-dfada7935213",
   "metadata": {},
   "outputs": [],
   "source": [
    "df = pd.read_csv('uy_bor_data.csv')"
   ]
  },
  {
   "cell_type": "code",
   "execution_count": 3,
   "id": "58313174-bcc9-4d84-adbc-3ba46fde1cae",
   "metadata": {},
   "outputs": [
    {
     "name": "stdout",
     "output_type": "stream",
     "text": [
      "<class 'pandas.core.frame.DataFrame'>\n",
      "RangeIndex: 2444 entries, 0 to 2443\n",
      "Data columns (total 18 columns):\n",
      " #   Column          Non-Null Count  Dtype \n",
      "---  ------          --------------  ----- \n",
      " 0   titles          2444 non-null   object\n",
      " 1   rooms           2444 non-null   object\n",
      " 2   areas           2444 non-null   object\n",
      " 3   floors          2444 non-null   object\n",
      " 4   renovations     2444 non-null   object\n",
      " 5   materials       2444 non-null   object\n",
      " 6   prices          2444 non-null   object\n",
      " 7   addresses       2444 non-null   object\n",
      " 8   lifts           2444 non-null   object\n",
      " 9   securities      2444 non-null   object\n",
      " 10  internets       2444 non-null   object\n",
      " 11  playgrounds     2444 non-null   object\n",
      " 12  sewerages       2444 non-null   object\n",
      " 13  bathrooms       2444 non-null   object\n",
      " 14  video_monitor   2444 non-null   object\n",
      " 15  parking_spaces  2444 non-null   object\n",
      " 16  air_conditions  2444 non-null   object\n",
      " 17  furnitures      2444 non-null   object\n",
      "dtypes: object(18)\n",
      "memory usage: 343.8+ KB\n"
     ]
    }
   ],
   "source": [
    "df.info()"
   ]
  },
  {
   "cell_type": "code",
   "execution_count": 4,
   "id": "8be771fd-3eb3-49f8-bcc0-d453d01ba1fc",
   "metadata": {},
   "outputs": [
    {
     "data": {
      "text/plain": [
       "titles\n",
       "2-комнатная квартира на продажу                 1033\n",
       "3-комнатная квартира на продажу                  573\n",
       "1-комнатная квартира на продажу                  534\n",
       "4-комнатная квартира на продажу                  263\n",
       "5-комнатная квартира на продажу                   34\n",
       "6+ комнатная квартира на продажу                   5\n",
       "Квартира со свободной планировкой на продажу       2\n",
       "Name: count, dtype: int64"
      ]
     },
     "execution_count": 4,
     "metadata": {},
     "output_type": "execute_result"
    }
   ],
   "source": [
    "df['titles'].value_counts()"
   ]
  },
  {
   "cell_type": "code",
   "execution_count": 5,
   "id": "6695ed5f-846e-4be1-9f3e-3ab0bfdbae1a",
   "metadata": {},
   "outputs": [],
   "source": [
    "def convt(value):\n",
    "    if value == 'Квартира со свободной планировкой на продажу':\n",
    "        return 3\n",
    "    else:\n",
    "        return int(value[0])\n",
    "df['titles'] = df['titles'].apply(convt)"
   ]
  },
  {
   "cell_type": "code",
   "execution_count": 6,
   "id": "e63efba0-a266-4249-9320-9deae9113eaf",
   "metadata": {},
   "outputs": [
    {
     "data": {
      "text/plain": [
       "titles\n",
       "2    1033\n",
       "3     575\n",
       "1     534\n",
       "4     263\n",
       "5      34\n",
       "6       5\n",
       "Name: count, dtype: int64"
      ]
     },
     "execution_count": 6,
     "metadata": {},
     "output_type": "execute_result"
    }
   ],
   "source": [
    "df['titles'].value_counts()"
   ]
  },
  {
   "cell_type": "code",
   "execution_count": 7,
   "id": "4c367d06-809a-4722-b859-af5848971777",
   "metadata": {},
   "outputs": [
    {
     "data": {
      "text/plain": [
       "addresses\n",
       "город Ташкент, Яшнободский район, махаллинский сход граждан Ахмад Яссавий, улица Алимкент           133\n",
       "город Ташкент, Мирабадский район, махаллинский сход граждан Айбек, улица Саида Барака                78\n",
       "город Ташкент, Яшнободский район, махаллинский сход граждан Истиклол                                 78\n",
       "город Ташкент, Сергелийский район, махаллинский сход граждан Эзгулик                                 75\n",
       "город Ташкент, Чиланзарский район, 2-й квартал                                                       73\n",
       "                                                                                                   ... \n",
       "город Ташкент, Яшнободский район, махаллинский сход граждан Бойкургон, улица Янгибозор                1\n",
       "город Ташкент, Чиланзарский район, махаллинский сход граждан Кичик Хирмантепа, улица Аль-Хорезми      1\n",
       "город Ташкент, Яшнободский район, махаллинский сход граждан Ахмад Яссавий, улица Хаваст               1\n",
       "город Ташкент, Яшнободский район, 58а Военный Городок                                                 1\n",
       "город Ташкент, Бектемирский район, махаллинский сход граждан Забардаст, Bektemir shoh ko'chasi        1\n",
       "Name: count, Length: 517, dtype: int64"
      ]
     },
     "execution_count": 7,
     "metadata": {},
     "output_type": "execute_result"
    }
   ],
   "source": [
    "df['addresses'].value_counts()"
   ]
  },
  {
   "cell_type": "code",
   "execution_count": 8,
   "id": "5526d631-f299-4b82-adbf-f32f18dc9aab",
   "metadata": {},
   "outputs": [],
   "source": [
    "def addres(value):\n",
    "    if 'город' in value:\n",
    "        new_city = value.split(' ')\n",
    "        return new_city[2]\n",
    "    elif 'область,' in value:\n",
    "        new_c = value.split(' ')\n",
    "        return new_c[2]\n",
    "    else:\n",
    "        return value\n",
    "df['addresses'] = df['addresses'].apply(addres)"
   ]
  },
  {
   "cell_type": "code",
   "execution_count": 9,
   "id": "fa97d150-cfb7-41a4-ab5e-9a387c0fcd50",
   "metadata": {},
   "outputs": [],
   "source": [
    "def symbol(value):\n",
    "    if ',' in value:\n",
    "        value = value.replace(',', '')\n",
    "        res = value.strip()\n",
    "        if ' ' in res :\n",
    "            res = res.replace(' ', '')\n",
    "            return res\n",
    "        else:\n",
    "            return res\n",
    "    else:\n",
    "        return value\n",
    "df['addresses'] = df['addresses'].apply(symbol)"
   ]
  },
  {
   "cell_type": "code",
   "execution_count": 10,
   "id": "fee3987e-3100-4a01-b2e0-9a9939a59ea7",
   "metadata": {},
   "outputs": [
    {
     "data": {
      "text/plain": [
       "addresses\n",
       "Чиланзарский           560\n",
       "Яшнободский            474\n",
       "Юнусабадский           414\n",
       "Мирабадский            274\n",
       "Мирзо-Улугбекский      197\n",
       "Учтепинский            186\n",
       "Сергелийский           121\n",
       "Яккасарайский           93\n",
       "Шайхантахурский         46\n",
       "Алмазарский             25\n",
       "Янгихаётский            14\n",
       "городской               10\n",
       "Бектемирский             7\n",
       "Чирчик                   4\n",
       "Самарканд                3\n",
       "Фергана                  2\n",
       "Нурафшан                 1\n",
       "Джизакская область       1\n",
       "Навои                    1\n",
       "Ташкентская область      1\n",
       "Газалкент                1\n",
       "Янгиюль                  1\n",
       "Бухара                   1\n",
       "Джизак                   1\n",
       "Каган                    1\n",
       "Андижан                  1\n",
       "махаллинский             1\n",
       "Ургенч                   1\n",
       "Карши                    1\n",
       "Шахрисабз                1\n",
       "Name: count, dtype: int64"
      ]
     },
     "execution_count": 10,
     "metadata": {},
     "output_type": "execute_result"
    }
   ],
   "source": [
    "df['addresses'].value_counts()"
   ]
  },
  {
   "cell_type": "code",
   "execution_count": 11,
   "id": "7f74509c-3631-4cc1-893b-9e2bf7dd92f4",
   "metadata": {},
   "outputs": [
    {
     "data": {
      "text/html": [
       "<div>\n",
       "<style scoped>\n",
       "    .dataframe tbody tr th:only-of-type {\n",
       "        vertical-align: middle;\n",
       "    }\n",
       "\n",
       "    .dataframe tbody tr th {\n",
       "        vertical-align: top;\n",
       "    }\n",
       "\n",
       "    .dataframe thead th {\n",
       "        text-align: right;\n",
       "    }\n",
       "</style>\n",
       "<table border=\"1\" class=\"dataframe\">\n",
       "  <thead>\n",
       "    <tr style=\"text-align: right;\">\n",
       "      <th></th>\n",
       "      <th>titles</th>\n",
       "      <th>rooms</th>\n",
       "      <th>areas</th>\n",
       "      <th>floors</th>\n",
       "      <th>renovations</th>\n",
       "      <th>materials</th>\n",
       "      <th>prices</th>\n",
       "      <th>addresses</th>\n",
       "      <th>lifts</th>\n",
       "      <th>securities</th>\n",
       "      <th>internets</th>\n",
       "      <th>playgrounds</th>\n",
       "      <th>sewerages</th>\n",
       "      <th>bathrooms</th>\n",
       "      <th>video_monitor</th>\n",
       "      <th>parking_spaces</th>\n",
       "      <th>air_conditions</th>\n",
       "      <th>furnitures</th>\n",
       "    </tr>\n",
       "  </thead>\n",
       "  <tbody>\n",
       "    <tr>\n",
       "      <th>0</th>\n",
       "      <td>1</td>\n",
       "      <td>1</td>\n",
       "      <td>42 м²</td>\n",
       "      <td>9/12</td>\n",
       "      <td>Черновая отделка</td>\n",
       "      <td>Блочный</td>\n",
       "      <td>42 000 у.е.</td>\n",
       "      <td>Яшнободский</td>\n",
       "      <td>Лифт</td>\n",
       "      <td>Охрана</td>\n",
       "      <td>No internet</td>\n",
       "      <td>Детская площадка</td>\n",
       "      <td>Канализация</td>\n",
       "      <td>No bathroom</td>\n",
       "      <td>Видеонаблюдение</td>\n",
       "      <td>No parking_space</td>\n",
       "      <td>No air_condition</td>\n",
       "      <td>No furniture</td>\n",
       "    </tr>\n",
       "    <tr>\n",
       "      <th>1</th>\n",
       "      <td>2</td>\n",
       "      <td>2</td>\n",
       "      <td>75 м²</td>\n",
       "      <td>9/9</td>\n",
       "      <td>Средний</td>\n",
       "      <td>Панельный</td>\n",
       "      <td>80 000 у.е.</td>\n",
       "      <td>Чиланзарский</td>\n",
       "      <td>1</td>\n",
       "      <td>No security</td>\n",
       "      <td>No internet</td>\n",
       "      <td>No playground</td>\n",
       "      <td>No sewerage</td>\n",
       "      <td>No bathroom</td>\n",
       "      <td>No video_monitor</td>\n",
       "      <td>No parking_space</td>\n",
       "      <td>No air_condition</td>\n",
       "      <td>No furniture</td>\n",
       "    </tr>\n",
       "    <tr>\n",
       "      <th>2</th>\n",
       "      <td>2</td>\n",
       "      <td>2</td>\n",
       "      <td>86 м²</td>\n",
       "      <td>1/8</td>\n",
       "      <td>Евроремонт</td>\n",
       "      <td>Другое</td>\n",
       "      <td>110 000 у.е.</td>\n",
       "      <td>Яккасарайский</td>\n",
       "      <td>1</td>\n",
       "      <td>No security</td>\n",
       "      <td>No internet</td>\n",
       "      <td>No playground</td>\n",
       "      <td>No sewerage</td>\n",
       "      <td>No bathroom</td>\n",
       "      <td>No video_monitor</td>\n",
       "      <td>No parking_space</td>\n",
       "      <td>No air_condition</td>\n",
       "      <td>No furniture</td>\n",
       "    </tr>\n",
       "    <tr>\n",
       "      <th>3</th>\n",
       "      <td>3</td>\n",
       "      <td>3</td>\n",
       "      <td>84 м²</td>\n",
       "      <td>2/4</td>\n",
       "      <td>Средний</td>\n",
       "      <td>Кирпичный</td>\n",
       "      <td>96 000 у.е.</td>\n",
       "      <td>Чиланзарский</td>\n",
       "      <td>no lift</td>\n",
       "      <td>No security</td>\n",
       "      <td>No internet</td>\n",
       "      <td>No playground</td>\n",
       "      <td>No sewerage</td>\n",
       "      <td>No bathroom</td>\n",
       "      <td>No video_monitor</td>\n",
       "      <td>No parking_space</td>\n",
       "      <td>No air_condition</td>\n",
       "      <td>No furniture</td>\n",
       "    </tr>\n",
       "    <tr>\n",
       "      <th>4</th>\n",
       "      <td>2</td>\n",
       "      <td>2</td>\n",
       "      <td>50 м²</td>\n",
       "      <td>4/4</td>\n",
       "      <td>Средний</td>\n",
       "      <td>Панельный</td>\n",
       "      <td>55 500 у.е.</td>\n",
       "      <td>Юнусабадский</td>\n",
       "      <td>no lift</td>\n",
       "      <td>No security</td>\n",
       "      <td>No internet</td>\n",
       "      <td>No playground</td>\n",
       "      <td>No sewerage</td>\n",
       "      <td>No bathroom</td>\n",
       "      <td>No video_monitor</td>\n",
       "      <td>No parking_space</td>\n",
       "      <td>No air_condition</td>\n",
       "      <td>No furniture</td>\n",
       "    </tr>\n",
       "    <tr>\n",
       "      <th>...</th>\n",
       "      <td>...</td>\n",
       "      <td>...</td>\n",
       "      <td>...</td>\n",
       "      <td>...</td>\n",
       "      <td>...</td>\n",
       "      <td>...</td>\n",
       "      <td>...</td>\n",
       "      <td>...</td>\n",
       "      <td>...</td>\n",
       "      <td>...</td>\n",
       "      <td>...</td>\n",
       "      <td>...</td>\n",
       "      <td>...</td>\n",
       "      <td>...</td>\n",
       "      <td>...</td>\n",
       "      <td>...</td>\n",
       "      <td>...</td>\n",
       "      <td>...</td>\n",
       "    </tr>\n",
       "    <tr>\n",
       "      <th>2439</th>\n",
       "      <td>1</td>\n",
       "      <td>1</td>\n",
       "      <td>20 м²</td>\n",
       "      <td>4/4</td>\n",
       "      <td>Средний</td>\n",
       "      <td>Кирпичный</td>\n",
       "      <td>26 000 у.е.</td>\n",
       "      <td>Яккасарайский</td>\n",
       "      <td>no lift</td>\n",
       "      <td>No security</td>\n",
       "      <td>Интернет</td>\n",
       "      <td>Детская площадка</td>\n",
       "      <td>Канализация</td>\n",
       "      <td>No bathroom</td>\n",
       "      <td>No video_monitor</td>\n",
       "      <td>Парковочное место</td>\n",
       "      <td>Кондиционер</td>\n",
       "      <td>Мебель</td>\n",
       "    </tr>\n",
       "    <tr>\n",
       "      <th>2440</th>\n",
       "      <td>2</td>\n",
       "      <td>2</td>\n",
       "      <td>70 м²</td>\n",
       "      <td>6/9</td>\n",
       "      <td>Средний</td>\n",
       "      <td>Панельный</td>\n",
       "      <td>80 000 у.е.</td>\n",
       "      <td>Мирабадский</td>\n",
       "      <td>Лифт</td>\n",
       "      <td>No security</td>\n",
       "      <td>Интернет</td>\n",
       "      <td>Детская площадка</td>\n",
       "      <td>Канализация</td>\n",
       "      <td>Санузел раздельный</td>\n",
       "      <td>No video_monitor</td>\n",
       "      <td>Парковочное место</td>\n",
       "      <td>Кондиционер</td>\n",
       "      <td>Мебель</td>\n",
       "    </tr>\n",
       "    <tr>\n",
       "      <th>2441</th>\n",
       "      <td>2</td>\n",
       "      <td>2</td>\n",
       "      <td>30 м²</td>\n",
       "      <td>7/8</td>\n",
       "      <td>Евроремонт</td>\n",
       "      <td>Кирпичный</td>\n",
       "      <td>80 000 у.е.</td>\n",
       "      <td>Юнусабадский</td>\n",
       "      <td>Лифт</td>\n",
       "      <td>No security</td>\n",
       "      <td>No internet</td>\n",
       "      <td>No playground</td>\n",
       "      <td>No sewerage</td>\n",
       "      <td>No bathroom</td>\n",
       "      <td>No video_monitor</td>\n",
       "      <td>No parking_space</td>\n",
       "      <td>Кондиционер</td>\n",
       "      <td>Мебель</td>\n",
       "    </tr>\n",
       "    <tr>\n",
       "      <th>2442</th>\n",
       "      <td>2</td>\n",
       "      <td>2</td>\n",
       "      <td>60.08 м²</td>\n",
       "      <td>2/9</td>\n",
       "      <td>Требует ремонта</td>\n",
       "      <td>Панельный</td>\n",
       "      <td>61 000 у.е.</td>\n",
       "      <td>Яшнободский</td>\n",
       "      <td>1</td>\n",
       "      <td>No security</td>\n",
       "      <td>No internet</td>\n",
       "      <td>No playground</td>\n",
       "      <td>No sewerage</td>\n",
       "      <td>No bathroom</td>\n",
       "      <td>No video_monitor</td>\n",
       "      <td>No parking_space</td>\n",
       "      <td>No air_condition</td>\n",
       "      <td>No furniture</td>\n",
       "    </tr>\n",
       "    <tr>\n",
       "      <th>2443</th>\n",
       "      <td>2</td>\n",
       "      <td>2</td>\n",
       "      <td>46.67 м²</td>\n",
       "      <td>1/3</td>\n",
       "      <td>Средний</td>\n",
       "      <td>Кирпичный</td>\n",
       "      <td>46 000 у.е.</td>\n",
       "      <td>Яшнободский</td>\n",
       "      <td>no lift</td>\n",
       "      <td>No security</td>\n",
       "      <td>No internet</td>\n",
       "      <td>No playground</td>\n",
       "      <td>No sewerage</td>\n",
       "      <td>No bathroom</td>\n",
       "      <td>No video_monitor</td>\n",
       "      <td>No parking_space</td>\n",
       "      <td>No air_condition</td>\n",
       "      <td>No furniture</td>\n",
       "    </tr>\n",
       "  </tbody>\n",
       "</table>\n",
       "<p>2444 rows × 18 columns</p>\n",
       "</div>"
      ],
      "text/plain": [
       "      titles rooms     areas floors       renovations  materials  \\\n",
       "0          1     1     42 м²   9/12  Черновая отделка    Блочный   \n",
       "1          2     2     75 м²    9/9           Средний  Панельный   \n",
       "2          2     2     86 м²    1/8        Евроремонт     Другое   \n",
       "3          3     3     84 м²    2/4           Средний  Кирпичный   \n",
       "4          2     2     50 м²    4/4           Средний  Панельный   \n",
       "...      ...   ...       ...    ...               ...        ...   \n",
       "2439       1     1     20 м²    4/4           Средний  Кирпичный   \n",
       "2440       2     2     70 м²    6/9           Средний  Панельный   \n",
       "2441       2     2     30 м²    7/8        Евроремонт  Кирпичный   \n",
       "2442       2     2  60.08 м²    2/9   Требует ремонта  Панельный   \n",
       "2443       2     2  46.67 м²    1/3           Средний  Кирпичный   \n",
       "\n",
       "            prices      addresses    lifts   securities    internets  \\\n",
       "0      42 000 у.е.    Яшнободский     Лифт       Охрана  No internet   \n",
       "1      80 000 у.е.   Чиланзарский        1  No security  No internet   \n",
       "2     110 000 у.е.  Яккасарайский        1  No security  No internet   \n",
       "3      96 000 у.е.   Чиланзарский  no lift  No security  No internet   \n",
       "4      55 500 у.е.   Юнусабадский  no lift  No security  No internet   \n",
       "...            ...            ...      ...          ...          ...   \n",
       "2439   26 000 у.е.  Яккасарайский  no lift  No security     Интернет   \n",
       "2440   80 000 у.е.    Мирабадский     Лифт  No security     Интернет   \n",
       "2441   80 000 у.е.   Юнусабадский     Лифт  No security  No internet   \n",
       "2442   61 000 у.е.    Яшнободский        1  No security  No internet   \n",
       "2443   46 000 у.е.    Яшнободский  no lift  No security  No internet   \n",
       "\n",
       "           playgrounds    sewerages           bathrooms     video_monitor  \\\n",
       "0     Детская площадка  Канализация         No bathroom   Видеонаблюдение   \n",
       "1        No playground  No sewerage         No bathroom  No video_monitor   \n",
       "2        No playground  No sewerage         No bathroom  No video_monitor   \n",
       "3        No playground  No sewerage         No bathroom  No video_monitor   \n",
       "4        No playground  No sewerage         No bathroom  No video_monitor   \n",
       "...                ...          ...                 ...               ...   \n",
       "2439  Детская площадка  Канализация         No bathroom  No video_monitor   \n",
       "2440  Детская площадка  Канализация  Санузел раздельный  No video_monitor   \n",
       "2441     No playground  No sewerage         No bathroom  No video_monitor   \n",
       "2442     No playground  No sewerage         No bathroom  No video_monitor   \n",
       "2443     No playground  No sewerage         No bathroom  No video_monitor   \n",
       "\n",
       "         parking_spaces    air_conditions    furnitures  \n",
       "0      No parking_space  No air_condition  No furniture  \n",
       "1      No parking_space  No air_condition  No furniture  \n",
       "2      No parking_space  No air_condition  No furniture  \n",
       "3      No parking_space  No air_condition  No furniture  \n",
       "4      No parking_space  No air_condition  No furniture  \n",
       "...                 ...               ...           ...  \n",
       "2439  Парковочное место       Кондиционер        Мебель  \n",
       "2440  Парковочное место       Кондиционер        Мебель  \n",
       "2441   No parking_space       Кондиционер        Мебель  \n",
       "2442   No parking_space  No air_condition  No furniture  \n",
       "2443   No parking_space  No air_condition  No furniture  \n",
       "\n",
       "[2444 rows x 18 columns]"
      ]
     },
     "execution_count": 11,
     "metadata": {},
     "output_type": "execute_result"
    }
   ],
   "source": [
    "df"
   ]
  },
  {
   "cell_type": "code",
   "execution_count": 12,
   "id": "ce673e84-3928-4f24-8c39-8ed2d1370c37",
   "metadata": {},
   "outputs": [
    {
     "data": {
      "text/plain": [
       "rooms\n",
       "2                       1033\n",
       "3                        573\n",
       "1                        534\n",
       "4                        263\n",
       "5                         34\n",
       "6+                         5\n",
       "Свободная планировка       2\n",
       "Name: count, dtype: int64"
      ]
     },
     "execution_count": 12,
     "metadata": {},
     "output_type": "execute_result"
    }
   ],
   "source": [
    "df['rooms'].value_counts()"
   ]
  },
  {
   "cell_type": "code",
   "execution_count": null,
   "id": "5bbfae98-59d4-4bf0-91ce-15a5f00794f6",
   "metadata": {},
   "outputs": [],
   "source": []
  },
  {
   "cell_type": "code",
   "execution_count": 13,
   "id": "971477b2-3307-4ce1-b7f6-4091c8572614",
   "metadata": {},
   "outputs": [],
   "source": [
    "def conv(value):\n",
    "    if '+' in value:\n",
    "        value = value.replace('+', '') \n",
    "        return int(value)\n",
    "    elif 'Свободная планировка' in value:\n",
    "        value = value.replace('Свободная планировка', '2')\n",
    "        return int(value)\n",
    "    else:\n",
    "        return int(value)\n",
    "df['rooms'] = df['rooms'].map(conv)"
   ]
  },
  {
   "cell_type": "code",
   "execution_count": 14,
   "id": "12e6f354-c6b0-4528-a242-764346c59aac",
   "metadata": {},
   "outputs": [],
   "source": [
    "def covvert_area(value):\n",
    "    if 'м²' in value:\n",
    "        value = value.replace('м²', '')\n",
    "        res = value.strip()\n",
    "        if ' ' in res:\n",
    "            res = res.replace(' ', '')\n",
    "            return float(res)\n",
    "        else:\n",
    "            return float(res)\n",
    "    else:\n",
    "        return float(value)\n",
    "df['areas'] = df['areas'].apply(covvert_area)"
   ]
  },
  {
   "cell_type": "code",
   "execution_count": 15,
   "id": "3adac4fa-24fb-4058-8018-a7974419162b",
   "metadata": {},
   "outputs": [],
   "source": [
    "# df[list(pd.get_dummies(df['floors']).columns)] = pd.get_dummies(df['floors'])\n",
    "def convert_floort(value):\n",
    "    return int(value[0])\n",
    "df['floors'] = df['floors'].map(convert_floort)"
   ]
  },
  {
   "cell_type": "code",
   "execution_count": 16,
   "id": "ad2e86db-8218-4690-ae53-51af47a6a44d",
   "metadata": {},
   "outputs": [
    {
     "data": {
      "text/plain": [
       "rooms\n",
       "2    1035\n",
       "3     573\n",
       "1     534\n",
       "4     263\n",
       "5      34\n",
       "6       5\n",
       "Name: count, dtype: int64"
      ]
     },
     "execution_count": 16,
     "metadata": {},
     "output_type": "execute_result"
    }
   ],
   "source": [
    "df['rooms'].value_counts()"
   ]
  },
  {
   "cell_type": "code",
   "execution_count": null,
   "id": "7973ba9e-593a-4a6f-b511-2790af2060ee",
   "metadata": {},
   "outputs": [],
   "source": []
  },
  {
   "cell_type": "code",
   "execution_count": 17,
   "id": "e79f420a-1c17-4af1-9172-ff4fb7ded46f",
   "metadata": {},
   "outputs": [],
   "source": [
    "def conv_p(value):\n",
    "    if 'у.е.' in value:\n",
    "        value=value.replace('у.е.', '')\n",
    "        res = value.strip()\n",
    "        if ' ' in res:\n",
    "            res = res.replace(' ', '')\n",
    "            return int(float(res))\n",
    "    else:\n",
    "        return int(value)\n",
    "df['prices'] = df['prices'].apply(conv_p)"
   ]
  },
  {
   "cell_type": "code",
   "execution_count": 18,
   "id": "1c70c1da-2563-4333-90f9-fc4563dfca29",
   "metadata": {},
   "outputs": [],
   "source": [
    "mean_price = df['prices'].max()\n",
    "df['prices'] = df['prices'].fillna(mean_price)\n",
    "def convert(velue):\n",
    "    return int(velue)\n",
    "df['prices'] = df['prices'].apply(convert)"
   ]
  },
  {
   "cell_type": "code",
   "execution_count": 19,
   "id": "76c630bf-d564-41a9-8c75-855168071c5f",
   "metadata": {},
   "outputs": [
    {
     "data": {
      "text/plain": [
       "prices\n",
       "80000     177\n",
       "61000      86\n",
       "42000      84\n",
       "46000      74\n",
       "36000      72\n",
       "         ... \n",
       "500000      1\n",
       "59350       1\n",
       "64999       1\n",
       "82750       1\n",
       "79300       1\n",
       "Name: count, Length: 482, dtype: int64"
      ]
     },
     "execution_count": 19,
     "metadata": {},
     "output_type": "execute_result"
    }
   ],
   "source": [
    "df['prices'].value_counts()"
   ]
  },
  {
   "cell_type": "code",
   "execution_count": 20,
   "id": "56934715-16d1-4448-8c55-22242b75a9b3",
   "metadata": {},
   "outputs": [
    {
     "data": {
      "text/plain": [
       "lifts\n",
       "no lift    1666\n",
       "1           416\n",
       "Лифт        362\n",
       "Name: count, dtype: int64"
      ]
     },
     "execution_count": 20,
     "metadata": {},
     "output_type": "execute_result"
    }
   ],
   "source": [
    "df['lifts'].value_counts()"
   ]
  },
  {
   "cell_type": "code",
   "execution_count": 21,
   "id": "e16aa69f-43dd-421c-9586-51c78d98e24f",
   "metadata": {},
   "outputs": [],
   "source": [
    "def conv_l(value):\n",
    "    if value == 'Лифт':\n",
    "        return 1\n",
    "    elif value == 'no lift':\n",
    "        return 0\n",
    "    else:\n",
    "        return 1\n",
    "df['lifts'] = df['lifts'].map(conv_l)"
   ]
  },
  {
   "cell_type": "code",
   "execution_count": 22,
   "id": "247ffe40-0a3d-4969-bf1c-d7b8f012ae87",
   "metadata": {},
   "outputs": [
    {
     "data": {
      "text/plain": [
       "lifts\n",
       "0    1666\n",
       "1     778\n",
       "Name: count, dtype: int64"
      ]
     },
     "execution_count": 22,
     "metadata": {},
     "output_type": "execute_result"
    }
   ],
   "source": [
    "df['lifts'].value_counts()"
   ]
  },
  {
   "cell_type": "code",
   "execution_count": 23,
   "id": "43c22536-5985-4e31-b6bf-6b92b155755e",
   "metadata": {},
   "outputs": [
    {
     "data": {
      "text/plain": [
       "securities\n",
       "No security    2315\n",
       "Охрана          129\n",
       "Name: count, dtype: int64"
      ]
     },
     "execution_count": 23,
     "metadata": {},
     "output_type": "execute_result"
    }
   ],
   "source": [
    "df['securities'].value_counts()"
   ]
  },
  {
   "cell_type": "code",
   "execution_count": 24,
   "id": "126b9a11-af8b-4a0f-89a5-3a9a228405d3",
   "metadata": {},
   "outputs": [],
   "source": [
    "def conv_s(value):\n",
    "    if value == 'Охрана':\n",
    "        return 1\n",
    "    else:\n",
    "        return 0\n",
    "df['securities'] = df['securities'].apply(conv_s)"
   ]
  },
  {
   "cell_type": "code",
   "execution_count": 25,
   "id": "036ae01d-9497-451c-b097-2c7b47409619",
   "metadata": {},
   "outputs": [
    {
     "data": {
      "text/plain": [
       "securities\n",
       "0    2315\n",
       "1     129\n",
       "Name: count, dtype: int64"
      ]
     },
     "execution_count": 25,
     "metadata": {},
     "output_type": "execute_result"
    }
   ],
   "source": [
    "df['securities'].value_counts()"
   ]
  },
  {
   "cell_type": "code",
   "execution_count": null,
   "id": "90324514-a690-460e-a973-f212dbb6e30f",
   "metadata": {},
   "outputs": [],
   "source": []
  },
  {
   "cell_type": "code",
   "execution_count": 26,
   "id": "56922707-ba45-4138-a545-804c0689498d",
   "metadata": {},
   "outputs": [
    {
     "data": {
      "text/plain": [
       "internets\n",
       "No internet    1644\n",
       "Интернет        800\n",
       "Name: count, dtype: int64"
      ]
     },
     "execution_count": 26,
     "metadata": {},
     "output_type": "execute_result"
    }
   ],
   "source": [
    "df['internets'].value_counts()"
   ]
  },
  {
   "cell_type": "code",
   "execution_count": 27,
   "id": "0012b289-c01b-47fe-8673-1bc9341edcf0",
   "metadata": {},
   "outputs": [],
   "source": [
    "def conv_i(value):\n",
    "    if value == 'Интернет':\n",
    "        return 1\n",
    "    else:\n",
    "        return 0\n",
    "df['internets'] = df['internets'].map(conv_i)"
   ]
  },
  {
   "cell_type": "code",
   "execution_count": 28,
   "id": "1b666378-3016-4544-bbe6-0a065294f141",
   "metadata": {},
   "outputs": [
    {
     "data": {
      "text/plain": [
       "internets\n",
       "0    1644\n",
       "1     800\n",
       "Name: count, dtype: int64"
      ]
     },
     "execution_count": 28,
     "metadata": {},
     "output_type": "execute_result"
    }
   ],
   "source": [
    "df['internets'].value_counts()"
   ]
  },
  {
   "cell_type": "code",
   "execution_count": null,
   "id": "610f60dc-e27b-467b-af57-820982a39307",
   "metadata": {},
   "outputs": [],
   "source": []
  },
  {
   "cell_type": "code",
   "execution_count": 29,
   "id": "39093885-0ab0-45e2-bbf7-f1c73073f50d",
   "metadata": {},
   "outputs": [
    {
     "data": {
      "text/plain": [
       "playgrounds\n",
       "No playground       1586\n",
       "Детская площадка     858\n",
       "Name: count, dtype: int64"
      ]
     },
     "execution_count": 29,
     "metadata": {},
     "output_type": "execute_result"
    }
   ],
   "source": [
    "df['playgrounds'].value_counts()"
   ]
  },
  {
   "cell_type": "code",
   "execution_count": 30,
   "id": "e13ed07d-c324-426d-b1a3-d64a605b8e00",
   "metadata": {},
   "outputs": [],
   "source": [
    "def conv_p(value):\n",
    "    if value == 'Детская площадка':\n",
    "        return 1\n",
    "    else:\n",
    "        return 0\n",
    "df['playgrounds'] = df['playgrounds'].map(conv_p)"
   ]
  },
  {
   "cell_type": "code",
   "execution_count": 31,
   "id": "19eaeaf2-7917-4cb1-9c88-1d0701dcbc02",
   "metadata": {},
   "outputs": [
    {
     "data": {
      "text/plain": [
       "playgrounds\n",
       "0    1586\n",
       "1     858\n",
       "Name: count, dtype: int64"
      ]
     },
     "execution_count": 31,
     "metadata": {},
     "output_type": "execute_result"
    }
   ],
   "source": [
    "df['playgrounds'].value_counts()"
   ]
  },
  {
   "cell_type": "code",
   "execution_count": null,
   "id": "d7328e78-9846-43ab-8927-c13f65c80441",
   "metadata": {},
   "outputs": [],
   "source": []
  },
  {
   "cell_type": "code",
   "execution_count": 32,
   "id": "f056fb35-46a8-4808-825c-59993a1a55da",
   "metadata": {},
   "outputs": [
    {
     "data": {
      "text/plain": [
       "sewerages\n",
       "No sewerage    1554\n",
       "Канализация     890\n",
       "Name: count, dtype: int64"
      ]
     },
     "execution_count": 32,
     "metadata": {},
     "output_type": "execute_result"
    }
   ],
   "source": [
    "df['sewerages'].value_counts()"
   ]
  },
  {
   "cell_type": "code",
   "execution_count": 33,
   "id": "1f9d2a5c-886b-4a41-af3d-8cbf78a3fc23",
   "metadata": {},
   "outputs": [],
   "source": [
    "def conv_swg(value):\n",
    "    if value == 'Канализация':\n",
    "        return 1\n",
    "    else:\n",
    "        return 0\n",
    "df['sewerages'] = df['sewerages'].map(conv_swg)"
   ]
  },
  {
   "cell_type": "code",
   "execution_count": 34,
   "id": "09d52161-200c-4f74-8892-8652b3bc0715",
   "metadata": {},
   "outputs": [
    {
     "data": {
      "text/plain": [
       "sewerages\n",
       "0    1554\n",
       "1     890\n",
       "Name: count, dtype: int64"
      ]
     },
     "execution_count": 34,
     "metadata": {},
     "output_type": "execute_result"
    }
   ],
   "source": [
    "df['sewerages'].value_counts()"
   ]
  },
  {
   "cell_type": "code",
   "execution_count": null,
   "id": "cad4e4fd-166a-4b9e-9572-1df50386b6d0",
   "metadata": {},
   "outputs": [],
   "source": []
  },
  {
   "cell_type": "code",
   "execution_count": 35,
   "id": "91040a4d-9053-47f9-8118-602d468d5dda",
   "metadata": {},
   "outputs": [
    {
     "data": {
      "text/plain": [
       "bathrooms\n",
       "No bathroom           1787\n",
       "Санузел раздельный     657\n",
       "Name: count, dtype: int64"
      ]
     },
     "execution_count": 35,
     "metadata": {},
     "output_type": "execute_result"
    }
   ],
   "source": [
    "df['bathrooms'].value_counts()"
   ]
  },
  {
   "cell_type": "code",
   "execution_count": 36,
   "id": "ebf37b20-f4bf-464f-b55f-4904822e7c60",
   "metadata": {},
   "outputs": [],
   "source": [
    "def conv_b(value):\n",
    "    if value == 'Санузел раздельный':\n",
    "        return 1\n",
    "    else:\n",
    "        return 0\n",
    "df['bathrooms'] = df['bathrooms'].map(conv_b)"
   ]
  },
  {
   "cell_type": "code",
   "execution_count": 37,
   "id": "5244219e-1412-427d-a10b-a616bdb238a9",
   "metadata": {},
   "outputs": [
    {
     "data": {
      "text/plain": [
       "bathrooms\n",
       "0    1787\n",
       "1     657\n",
       "Name: count, dtype: int64"
      ]
     },
     "execution_count": 37,
     "metadata": {},
     "output_type": "execute_result"
    }
   ],
   "source": [
    "df['bathrooms'].value_counts()"
   ]
  },
  {
   "cell_type": "code",
   "execution_count": null,
   "id": "fe99c293-a42c-47fc-8840-e5d635b81201",
   "metadata": {},
   "outputs": [],
   "source": []
  },
  {
   "cell_type": "code",
   "execution_count": 38,
   "id": "f5802cac-f654-412a-801a-3b27d77b1125",
   "metadata": {},
   "outputs": [
    {
     "data": {
      "text/plain": [
       "video_monitor\n",
       "No video_monitor    2236\n",
       "Видеонаблюдение      208\n",
       "Name: count, dtype: int64"
      ]
     },
     "execution_count": 38,
     "metadata": {},
     "output_type": "execute_result"
    }
   ],
   "source": [
    "df['video_monitor'].value_counts()"
   ]
  },
  {
   "cell_type": "code",
   "execution_count": 39,
   "id": "84b5eb5a-87b9-4c6c-83a5-15d0008f8d78",
   "metadata": {},
   "outputs": [],
   "source": [
    "def conv_v(value):\n",
    "    if value == 'Видеонаблюдение':\n",
    "        return 1\n",
    "    else:\n",
    "        return 0\n",
    "df['video_monitor'] = df['video_monitor'].map(conv_v)"
   ]
  },
  {
   "cell_type": "code",
   "execution_count": 40,
   "id": "56a789b2-5212-4639-83fb-1a7d9828281d",
   "metadata": {},
   "outputs": [
    {
     "data": {
      "text/plain": [
       "video_monitor\n",
       "0    2236\n",
       "1     208\n",
       "Name: count, dtype: int64"
      ]
     },
     "execution_count": 40,
     "metadata": {},
     "output_type": "execute_result"
    }
   ],
   "source": [
    "df['video_monitor'].value_counts()"
   ]
  },
  {
   "cell_type": "code",
   "execution_count": null,
   "id": "78e36b2f-990d-4313-92d1-2ffca5d34974",
   "metadata": {},
   "outputs": [],
   "source": []
  },
  {
   "cell_type": "code",
   "execution_count": 41,
   "id": "2f6a4cab-64f5-4d32-b1fd-8d548d67fb14",
   "metadata": {},
   "outputs": [
    {
     "data": {
      "text/plain": [
       "parking_spaces\n",
       "No parking_space     1757\n",
       "Парковочное место     687\n",
       "Name: count, dtype: int64"
      ]
     },
     "execution_count": 41,
     "metadata": {},
     "output_type": "execute_result"
    }
   ],
   "source": [
    "df['parking_spaces'].value_counts()"
   ]
  },
  {
   "cell_type": "code",
   "execution_count": 42,
   "id": "26ed087e-a3ee-4c1c-b6d1-b481df746be3",
   "metadata": {},
   "outputs": [],
   "source": [
    "def conv_p(value):\n",
    "    if value == 'Парковочное место':\n",
    "        return 1\n",
    "    else:\n",
    "        return 0\n",
    "df['parking_spaces'] = df['parking_spaces'].map(conv_p)"
   ]
  },
  {
   "cell_type": "code",
   "execution_count": 43,
   "id": "aa36e05b-57c7-4ce9-886a-0d103cb68c88",
   "metadata": {},
   "outputs": [
    {
     "data": {
      "text/plain": [
       "parking_spaces\n",
       "0    1757\n",
       "1     687\n",
       "Name: count, dtype: int64"
      ]
     },
     "execution_count": 43,
     "metadata": {},
     "output_type": "execute_result"
    }
   ],
   "source": [
    "df['parking_spaces'].value_counts()"
   ]
  },
  {
   "cell_type": "code",
   "execution_count": null,
   "id": "302bb7fe-b354-49c7-b697-ae01ee7d6404",
   "metadata": {},
   "outputs": [],
   "source": []
  },
  {
   "cell_type": "code",
   "execution_count": 44,
   "id": "b6c92658-2442-45e8-af97-42d7acd84f87",
   "metadata": {},
   "outputs": [
    {
     "data": {
      "text/plain": [
       "air_conditions\n",
       "No air_condition    1760\n",
       "Кондиционер          684\n",
       "Name: count, dtype: int64"
      ]
     },
     "execution_count": 44,
     "metadata": {},
     "output_type": "execute_result"
    }
   ],
   "source": [
    "df['air_conditions'].value_counts()"
   ]
  },
  {
   "cell_type": "code",
   "execution_count": 45,
   "id": "01846563-c6f7-457f-9c46-9239b2bb4f20",
   "metadata": {},
   "outputs": [],
   "source": [
    "def conv_air(value):\n",
    "    if value == 'Кондиционер':\n",
    "        return 1\n",
    "    else:\n",
    "        return 0\n",
    "df['air_conditions'] = df['air_conditions'].map(conv_air)"
   ]
  },
  {
   "cell_type": "code",
   "execution_count": 46,
   "id": "bdecf60a-7c54-42f9-9764-d9208021bec2",
   "metadata": {},
   "outputs": [
    {
     "data": {
      "text/plain": [
       "air_conditions\n",
       "0    1760\n",
       "1     684\n",
       "Name: count, dtype: int64"
      ]
     },
     "execution_count": 46,
     "metadata": {},
     "output_type": "execute_result"
    }
   ],
   "source": [
    "df['air_conditions'].value_counts()"
   ]
  },
  {
   "cell_type": "code",
   "execution_count": null,
   "id": "9a62339e-1f69-4838-aca2-3320b7570093",
   "metadata": {},
   "outputs": [],
   "source": []
  },
  {
   "cell_type": "code",
   "execution_count": 47,
   "id": "17083138-ae7d-4d96-b841-a6760dfad482",
   "metadata": {},
   "outputs": [
    {
     "data": {
      "text/plain": [
       "furnitures\n",
       "No furniture    1730\n",
       "Мебель           714\n",
       "Name: count, dtype: int64"
      ]
     },
     "execution_count": 47,
     "metadata": {},
     "output_type": "execute_result"
    }
   ],
   "source": [
    "df['furnitures'].value_counts()"
   ]
  },
  {
   "cell_type": "code",
   "execution_count": 48,
   "id": "d0355324-e0e8-4a39-9473-1d3e6253e592",
   "metadata": {},
   "outputs": [
    {
     "data": {
      "text/plain": [
       "furnitures\n",
       "0    1730\n",
       "1     714\n",
       "Name: count, dtype: int64"
      ]
     },
     "execution_count": 48,
     "metadata": {},
     "output_type": "execute_result"
    }
   ],
   "source": [
    "def conv_f(value):\n",
    "    if value == 'Мебель':\n",
    "        return 1\n",
    "    else:\n",
    "        return 0\n",
    "df['furnitures'] = df['furnitures'].map(conv_f)\n",
    "df['furnitures'].value_counts()"
   ]
  },
  {
   "cell_type": "code",
   "execution_count": 49,
   "id": "1dc975a1-fcc1-40da-ad0a-bec019049dd7",
   "metadata": {},
   "outputs": [],
   "source": [
    "def convert_materials(value):\n",
    "    if 'No material' in value:\n",
    "        value = value.replace('No material', 'Блочный')\n",
    "        return value\n",
    "    else:\n",
    "        return value\n",
    "df['materials'] = df['materials'].map(convert_materials)"
   ]
  },
  {
   "cell_type": "code",
   "execution_count": 50,
   "id": "515a4a4e-c59c-4e30-97de-dc9c0854bfa9",
   "metadata": {},
   "outputs": [
    {
     "data": {
      "text/plain": [
       "materials\n",
       "Панельный     1096\n",
       "Кирпичный     1067\n",
       "Монолитный     122\n",
       "Блочный         97\n",
       "Другое          62\n",
       "Name: count, dtype: int64"
      ]
     },
     "execution_count": 50,
     "metadata": {},
     "output_type": "execute_result"
    }
   ],
   "source": [
    "df['materials'].value_counts()"
   ]
  },
  {
   "cell_type": "code",
   "execution_count": 51,
   "id": "57b025d5-9e86-4788-8c52-33ab79e2ed04",
   "metadata": {},
   "outputs": [
    {
     "data": {
      "text/html": [
       "<div>\n",
       "<style scoped>\n",
       "    .dataframe tbody tr th:only-of-type {\n",
       "        vertical-align: middle;\n",
       "    }\n",
       "\n",
       "    .dataframe tbody tr th {\n",
       "        vertical-align: top;\n",
       "    }\n",
       "\n",
       "    .dataframe thead th {\n",
       "        text-align: right;\n",
       "    }\n",
       "</style>\n",
       "<table border=\"1\" class=\"dataframe\">\n",
       "  <thead>\n",
       "    <tr style=\"text-align: right;\">\n",
       "      <th></th>\n",
       "      <th>titles</th>\n",
       "      <th>rooms</th>\n",
       "      <th>areas</th>\n",
       "      <th>floors</th>\n",
       "      <th>renovations</th>\n",
       "      <th>materials</th>\n",
       "      <th>prices</th>\n",
       "      <th>addresses</th>\n",
       "      <th>lifts</th>\n",
       "      <th>securities</th>\n",
       "      <th>internets</th>\n",
       "      <th>playgrounds</th>\n",
       "      <th>sewerages</th>\n",
       "      <th>bathrooms</th>\n",
       "      <th>video_monitor</th>\n",
       "      <th>parking_spaces</th>\n",
       "      <th>air_conditions</th>\n",
       "      <th>furnitures</th>\n",
       "    </tr>\n",
       "  </thead>\n",
       "  <tbody>\n",
       "    <tr>\n",
       "      <th>0</th>\n",
       "      <td>1</td>\n",
       "      <td>1</td>\n",
       "      <td>42.00</td>\n",
       "      <td>9</td>\n",
       "      <td>Черновая отделка</td>\n",
       "      <td>Блочный</td>\n",
       "      <td>42000</td>\n",
       "      <td>Яшнободский</td>\n",
       "      <td>1</td>\n",
       "      <td>1</td>\n",
       "      <td>0</td>\n",
       "      <td>1</td>\n",
       "      <td>1</td>\n",
       "      <td>0</td>\n",
       "      <td>1</td>\n",
       "      <td>0</td>\n",
       "      <td>0</td>\n",
       "      <td>0</td>\n",
       "    </tr>\n",
       "    <tr>\n",
       "      <th>1</th>\n",
       "      <td>2</td>\n",
       "      <td>2</td>\n",
       "      <td>75.00</td>\n",
       "      <td>9</td>\n",
       "      <td>Средний</td>\n",
       "      <td>Панельный</td>\n",
       "      <td>80000</td>\n",
       "      <td>Чиланзарский</td>\n",
       "      <td>1</td>\n",
       "      <td>0</td>\n",
       "      <td>0</td>\n",
       "      <td>0</td>\n",
       "      <td>0</td>\n",
       "      <td>0</td>\n",
       "      <td>0</td>\n",
       "      <td>0</td>\n",
       "      <td>0</td>\n",
       "      <td>0</td>\n",
       "    </tr>\n",
       "    <tr>\n",
       "      <th>2</th>\n",
       "      <td>2</td>\n",
       "      <td>2</td>\n",
       "      <td>86.00</td>\n",
       "      <td>1</td>\n",
       "      <td>Евроремонт</td>\n",
       "      <td>Другое</td>\n",
       "      <td>110000</td>\n",
       "      <td>Яккасарайский</td>\n",
       "      <td>1</td>\n",
       "      <td>0</td>\n",
       "      <td>0</td>\n",
       "      <td>0</td>\n",
       "      <td>0</td>\n",
       "      <td>0</td>\n",
       "      <td>0</td>\n",
       "      <td>0</td>\n",
       "      <td>0</td>\n",
       "      <td>0</td>\n",
       "    </tr>\n",
       "    <tr>\n",
       "      <th>3</th>\n",
       "      <td>3</td>\n",
       "      <td>3</td>\n",
       "      <td>84.00</td>\n",
       "      <td>2</td>\n",
       "      <td>Средний</td>\n",
       "      <td>Кирпичный</td>\n",
       "      <td>96000</td>\n",
       "      <td>Чиланзарский</td>\n",
       "      <td>0</td>\n",
       "      <td>0</td>\n",
       "      <td>0</td>\n",
       "      <td>0</td>\n",
       "      <td>0</td>\n",
       "      <td>0</td>\n",
       "      <td>0</td>\n",
       "      <td>0</td>\n",
       "      <td>0</td>\n",
       "      <td>0</td>\n",
       "    </tr>\n",
       "    <tr>\n",
       "      <th>4</th>\n",
       "      <td>2</td>\n",
       "      <td>2</td>\n",
       "      <td>50.00</td>\n",
       "      <td>4</td>\n",
       "      <td>Средний</td>\n",
       "      <td>Панельный</td>\n",
       "      <td>55500</td>\n",
       "      <td>Юнусабадский</td>\n",
       "      <td>0</td>\n",
       "      <td>0</td>\n",
       "      <td>0</td>\n",
       "      <td>0</td>\n",
       "      <td>0</td>\n",
       "      <td>0</td>\n",
       "      <td>0</td>\n",
       "      <td>0</td>\n",
       "      <td>0</td>\n",
       "      <td>0</td>\n",
       "    </tr>\n",
       "    <tr>\n",
       "      <th>...</th>\n",
       "      <td>...</td>\n",
       "      <td>...</td>\n",
       "      <td>...</td>\n",
       "      <td>...</td>\n",
       "      <td>...</td>\n",
       "      <td>...</td>\n",
       "      <td>...</td>\n",
       "      <td>...</td>\n",
       "      <td>...</td>\n",
       "      <td>...</td>\n",
       "      <td>...</td>\n",
       "      <td>...</td>\n",
       "      <td>...</td>\n",
       "      <td>...</td>\n",
       "      <td>...</td>\n",
       "      <td>...</td>\n",
       "      <td>...</td>\n",
       "      <td>...</td>\n",
       "    </tr>\n",
       "    <tr>\n",
       "      <th>2439</th>\n",
       "      <td>1</td>\n",
       "      <td>1</td>\n",
       "      <td>20.00</td>\n",
       "      <td>4</td>\n",
       "      <td>Средний</td>\n",
       "      <td>Кирпичный</td>\n",
       "      <td>26000</td>\n",
       "      <td>Яккасарайский</td>\n",
       "      <td>0</td>\n",
       "      <td>0</td>\n",
       "      <td>1</td>\n",
       "      <td>1</td>\n",
       "      <td>1</td>\n",
       "      <td>0</td>\n",
       "      <td>0</td>\n",
       "      <td>1</td>\n",
       "      <td>1</td>\n",
       "      <td>1</td>\n",
       "    </tr>\n",
       "    <tr>\n",
       "      <th>2440</th>\n",
       "      <td>2</td>\n",
       "      <td>2</td>\n",
       "      <td>70.00</td>\n",
       "      <td>6</td>\n",
       "      <td>Средний</td>\n",
       "      <td>Панельный</td>\n",
       "      <td>80000</td>\n",
       "      <td>Мирабадский</td>\n",
       "      <td>1</td>\n",
       "      <td>0</td>\n",
       "      <td>1</td>\n",
       "      <td>1</td>\n",
       "      <td>1</td>\n",
       "      <td>1</td>\n",
       "      <td>0</td>\n",
       "      <td>1</td>\n",
       "      <td>1</td>\n",
       "      <td>1</td>\n",
       "    </tr>\n",
       "    <tr>\n",
       "      <th>2441</th>\n",
       "      <td>2</td>\n",
       "      <td>2</td>\n",
       "      <td>30.00</td>\n",
       "      <td>7</td>\n",
       "      <td>Евроремонт</td>\n",
       "      <td>Кирпичный</td>\n",
       "      <td>80000</td>\n",
       "      <td>Юнусабадский</td>\n",
       "      <td>1</td>\n",
       "      <td>0</td>\n",
       "      <td>0</td>\n",
       "      <td>0</td>\n",
       "      <td>0</td>\n",
       "      <td>0</td>\n",
       "      <td>0</td>\n",
       "      <td>0</td>\n",
       "      <td>1</td>\n",
       "      <td>1</td>\n",
       "    </tr>\n",
       "    <tr>\n",
       "      <th>2442</th>\n",
       "      <td>2</td>\n",
       "      <td>2</td>\n",
       "      <td>60.08</td>\n",
       "      <td>2</td>\n",
       "      <td>Требует ремонта</td>\n",
       "      <td>Панельный</td>\n",
       "      <td>61000</td>\n",
       "      <td>Яшнободский</td>\n",
       "      <td>1</td>\n",
       "      <td>0</td>\n",
       "      <td>0</td>\n",
       "      <td>0</td>\n",
       "      <td>0</td>\n",
       "      <td>0</td>\n",
       "      <td>0</td>\n",
       "      <td>0</td>\n",
       "      <td>0</td>\n",
       "      <td>0</td>\n",
       "    </tr>\n",
       "    <tr>\n",
       "      <th>2443</th>\n",
       "      <td>2</td>\n",
       "      <td>2</td>\n",
       "      <td>46.67</td>\n",
       "      <td>1</td>\n",
       "      <td>Средний</td>\n",
       "      <td>Кирпичный</td>\n",
       "      <td>46000</td>\n",
       "      <td>Яшнободский</td>\n",
       "      <td>0</td>\n",
       "      <td>0</td>\n",
       "      <td>0</td>\n",
       "      <td>0</td>\n",
       "      <td>0</td>\n",
       "      <td>0</td>\n",
       "      <td>0</td>\n",
       "      <td>0</td>\n",
       "      <td>0</td>\n",
       "      <td>0</td>\n",
       "    </tr>\n",
       "  </tbody>\n",
       "</table>\n",
       "<p>2444 rows × 18 columns</p>\n",
       "</div>"
      ],
      "text/plain": [
       "      titles  rooms  areas  floors       renovations  materials  prices  \\\n",
       "0          1      1  42.00       9  Черновая отделка    Блочный   42000   \n",
       "1          2      2  75.00       9           Средний  Панельный   80000   \n",
       "2          2      2  86.00       1        Евроремонт     Другое  110000   \n",
       "3          3      3  84.00       2           Средний  Кирпичный   96000   \n",
       "4          2      2  50.00       4           Средний  Панельный   55500   \n",
       "...      ...    ...    ...     ...               ...        ...     ...   \n",
       "2439       1      1  20.00       4           Средний  Кирпичный   26000   \n",
       "2440       2      2  70.00       6           Средний  Панельный   80000   \n",
       "2441       2      2  30.00       7        Евроремонт  Кирпичный   80000   \n",
       "2442       2      2  60.08       2   Требует ремонта  Панельный   61000   \n",
       "2443       2      2  46.67       1           Средний  Кирпичный   46000   \n",
       "\n",
       "          addresses  lifts  securities  internets  playgrounds  sewerages  \\\n",
       "0       Яшнободский      1           1          0            1          1   \n",
       "1      Чиланзарский      1           0          0            0          0   \n",
       "2     Яккасарайский      1           0          0            0          0   \n",
       "3      Чиланзарский      0           0          0            0          0   \n",
       "4      Юнусабадский      0           0          0            0          0   \n",
       "...             ...    ...         ...        ...          ...        ...   \n",
       "2439  Яккасарайский      0           0          1            1          1   \n",
       "2440    Мирабадский      1           0          1            1          1   \n",
       "2441   Юнусабадский      1           0          0            0          0   \n",
       "2442    Яшнободский      1           0          0            0          0   \n",
       "2443    Яшнободский      0           0          0            0          0   \n",
       "\n",
       "      bathrooms  video_monitor  parking_spaces  air_conditions  furnitures  \n",
       "0             0              1               0               0           0  \n",
       "1             0              0               0               0           0  \n",
       "2             0              0               0               0           0  \n",
       "3             0              0               0               0           0  \n",
       "4             0              0               0               0           0  \n",
       "...         ...            ...             ...             ...         ...  \n",
       "2439          0              0               1               1           1  \n",
       "2440          1              0               1               1           1  \n",
       "2441          0              0               0               1           1  \n",
       "2442          0              0               0               0           0  \n",
       "2443          0              0               0               0           0  \n",
       "\n",
       "[2444 rows x 18 columns]"
      ]
     },
     "execution_count": 51,
     "metadata": {},
     "output_type": "execute_result"
    }
   ],
   "source": [
    "df"
   ]
  },
  {
   "cell_type": "code",
   "execution_count": null,
   "id": "e3ebc459-f66e-4559-9643-275270fd132b",
   "metadata": {},
   "outputs": [],
   "source": []
  },
  {
   "cell_type": "code",
   "execution_count": 52,
   "id": "bcfa28fc-e0a5-4d65-beb5-48396cf776d1",
   "metadata": {},
   "outputs": [],
   "source": [
    "import pandas as pd\n",
    "import numpy as np\n",
    "from sklearn.model_selection import train_test_split\n",
    "from sklearn.preprocessing import StandardScaler, OneHotEncoder\n",
    "from sklearn.ensemble import RandomForestRegressor\n",
    "from sklearn.metrics import mean_squared_error\n",
    "import joblib\n",
    "from sklearn.pipeline import make_pipeline\n",
    "from sklearn.compose import ColumnTransformer"
   ]
  },
  {
   "cell_type": "code",
   "execution_count": 53,
   "id": "23d43f0c-aab3-422c-a4f3-bc1180e8b817",
   "metadata": {},
   "outputs": [],
   "source": [
    "x = df.drop('prices',axis=1)\n",
    "y = df['prices']"
   ]
  },
  {
   "cell_type": "code",
   "execution_count": 54,
   "id": "43b7399e-8ef6-4e75-9f97-467ba9bbd375",
   "metadata": {},
   "outputs": [],
   "source": [
    "x_train, x_test, y_train, y_test, = train_test_split(x,y, test_size=0.25, random_state=42)"
   ]
  },
  {
   "cell_type": "code",
   "execution_count": 55,
   "id": "0dda9c5a-76f4-4ecc-9604-ae1c7a4c081f",
   "metadata": {},
   "outputs": [
    {
     "name": "stdout",
     "output_type": "stream",
     "text": [
      "Index(['titles', 'rooms', 'floors', 'lifts', 'securities', 'internets',\n",
      "       'playgrounds', 'sewerages', 'bathrooms', 'video_monitor',\n",
      "       'parking_spaces', 'air_conditions', 'furnitures'],\n",
      "      dtype='object')\n",
      "Index(['renovations', 'materials', 'addresses'], dtype='object')\n"
     ]
    }
   ],
   "source": [
    "numerical = x_train.select_dtypes(include='int64').columns\n",
    "categorical = x_train.select_dtypes(include='object').columns\n",
    "print(numerical)\n",
    "print(categorical)"
   ]
  },
  {
   "cell_type": "code",
   "execution_count": 56,
   "id": "23fbf126-dba6-441c-9487-0c76bd3d1e47",
   "metadata": {},
   "outputs": [],
   "source": [
    "preprocessor = ColumnTransformer(\n",
    "    transformers=[\n",
    "        ('num', StandardScaler(), ['titles','rooms','areas','floors']),\n",
    "        ('cut', OneHotEncoder(handle_unknown='ignore'), categorical)\n",
    "    ]\n",
    ")"
   ]
  },
  {
   "cell_type": "code",
   "execution_count": 57,
   "id": "1585cdf5-91b5-4b37-a63d-35f50dad123f",
   "metadata": {},
   "outputs": [],
   "source": [
    "model = make_pipeline(preprocessor,RandomForestRegressor())"
   ]
  },
  {
   "cell_type": "code",
   "execution_count": 58,
   "id": "bee72e54-b11b-40f1-b5de-c955ee4c4553",
   "metadata": {},
   "outputs": [
    {
     "data": {
      "text/html": [
       "<style>#sk-container-id-1 {color: black;background-color: white;}#sk-container-id-1 pre{padding: 0;}#sk-container-id-1 div.sk-toggleable {background-color: white;}#sk-container-id-1 label.sk-toggleable__label {cursor: pointer;display: block;width: 100%;margin-bottom: 0;padding: 0.3em;box-sizing: border-box;text-align: center;}#sk-container-id-1 label.sk-toggleable__label-arrow:before {content: \"▸\";float: left;margin-right: 0.25em;color: #696969;}#sk-container-id-1 label.sk-toggleable__label-arrow:hover:before {color: black;}#sk-container-id-1 div.sk-estimator:hover label.sk-toggleable__label-arrow:before {color: black;}#sk-container-id-1 div.sk-toggleable__content {max-height: 0;max-width: 0;overflow: hidden;text-align: left;background-color: #f0f8ff;}#sk-container-id-1 div.sk-toggleable__content pre {margin: 0.2em;color: black;border-radius: 0.25em;background-color: #f0f8ff;}#sk-container-id-1 input.sk-toggleable__control:checked~div.sk-toggleable__content {max-height: 200px;max-width: 100%;overflow: auto;}#sk-container-id-1 input.sk-toggleable__control:checked~label.sk-toggleable__label-arrow:before {content: \"▾\";}#sk-container-id-1 div.sk-estimator input.sk-toggleable__control:checked~label.sk-toggleable__label {background-color: #d4ebff;}#sk-container-id-1 div.sk-label input.sk-toggleable__control:checked~label.sk-toggleable__label {background-color: #d4ebff;}#sk-container-id-1 input.sk-hidden--visually {border: 0;clip: rect(1px 1px 1px 1px);clip: rect(1px, 1px, 1px, 1px);height: 1px;margin: -1px;overflow: hidden;padding: 0;position: absolute;width: 1px;}#sk-container-id-1 div.sk-estimator {font-family: monospace;background-color: #f0f8ff;border: 1px dotted black;border-radius: 0.25em;box-sizing: border-box;margin-bottom: 0.5em;}#sk-container-id-1 div.sk-estimator:hover {background-color: #d4ebff;}#sk-container-id-1 div.sk-parallel-item::after {content: \"\";width: 100%;border-bottom: 1px solid gray;flex-grow: 1;}#sk-container-id-1 div.sk-label:hover label.sk-toggleable__label {background-color: #d4ebff;}#sk-container-id-1 div.sk-serial::before {content: \"\";position: absolute;border-left: 1px solid gray;box-sizing: border-box;top: 0;bottom: 0;left: 50%;z-index: 0;}#sk-container-id-1 div.sk-serial {display: flex;flex-direction: column;align-items: center;background-color: white;padding-right: 0.2em;padding-left: 0.2em;position: relative;}#sk-container-id-1 div.sk-item {position: relative;z-index: 1;}#sk-container-id-1 div.sk-parallel {display: flex;align-items: stretch;justify-content: center;background-color: white;position: relative;}#sk-container-id-1 div.sk-item::before, #sk-container-id-1 div.sk-parallel-item::before {content: \"\";position: absolute;border-left: 1px solid gray;box-sizing: border-box;top: 0;bottom: 0;left: 50%;z-index: -1;}#sk-container-id-1 div.sk-parallel-item {display: flex;flex-direction: column;z-index: 1;position: relative;background-color: white;}#sk-container-id-1 div.sk-parallel-item:first-child::after {align-self: flex-end;width: 50%;}#sk-container-id-1 div.sk-parallel-item:last-child::after {align-self: flex-start;width: 50%;}#sk-container-id-1 div.sk-parallel-item:only-child::after {width: 0;}#sk-container-id-1 div.sk-dashed-wrapped {border: 1px dashed gray;margin: 0 0.4em 0.5em 0.4em;box-sizing: border-box;padding-bottom: 0.4em;background-color: white;}#sk-container-id-1 div.sk-label label {font-family: monospace;font-weight: bold;display: inline-block;line-height: 1.2em;}#sk-container-id-1 div.sk-label-container {text-align: center;}#sk-container-id-1 div.sk-container {/* jupyter's `normalize.less` sets `[hidden] { display: none; }` but bootstrap.min.css set `[hidden] { display: none !important; }` so we also need the `!important` here to be able to override the default hidden behavior on the sphinx rendered scikit-learn.org. See: https://github.com/scikit-learn/scikit-learn/issues/21755 */display: inline-block !important;position: relative;}#sk-container-id-1 div.sk-text-repr-fallback {display: none;}</style><div id=\"sk-container-id-1\" class=\"sk-top-container\"><div class=\"sk-text-repr-fallback\"><pre>Pipeline(steps=[(&#x27;columntransformer&#x27;,\n",
       "                 ColumnTransformer(transformers=[(&#x27;num&#x27;, StandardScaler(),\n",
       "                                                  [&#x27;titles&#x27;, &#x27;rooms&#x27;, &#x27;areas&#x27;,\n",
       "                                                   &#x27;floors&#x27;]),\n",
       "                                                 (&#x27;cut&#x27;,\n",
       "                                                  OneHotEncoder(handle_unknown=&#x27;ignore&#x27;),\n",
       "                                                  Index([&#x27;renovations&#x27;, &#x27;materials&#x27;, &#x27;addresses&#x27;], dtype=&#x27;object&#x27;))])),\n",
       "                (&#x27;randomforestregressor&#x27;, RandomForestRegressor())])</pre><b>In a Jupyter environment, please rerun this cell to show the HTML representation or trust the notebook. <br />On GitHub, the HTML representation is unable to render, please try loading this page with nbviewer.org.</b></div><div class=\"sk-container\" hidden><div class=\"sk-item sk-dashed-wrapped\"><div class=\"sk-label-container\"><div class=\"sk-label sk-toggleable\"><input class=\"sk-toggleable__control sk-hidden--visually\" id=\"sk-estimator-id-1\" type=\"checkbox\" ><label for=\"sk-estimator-id-1\" class=\"sk-toggleable__label sk-toggleable__label-arrow\">Pipeline</label><div class=\"sk-toggleable__content\"><pre>Pipeline(steps=[(&#x27;columntransformer&#x27;,\n",
       "                 ColumnTransformer(transformers=[(&#x27;num&#x27;, StandardScaler(),\n",
       "                                                  [&#x27;titles&#x27;, &#x27;rooms&#x27;, &#x27;areas&#x27;,\n",
       "                                                   &#x27;floors&#x27;]),\n",
       "                                                 (&#x27;cut&#x27;,\n",
       "                                                  OneHotEncoder(handle_unknown=&#x27;ignore&#x27;),\n",
       "                                                  Index([&#x27;renovations&#x27;, &#x27;materials&#x27;, &#x27;addresses&#x27;], dtype=&#x27;object&#x27;))])),\n",
       "                (&#x27;randomforestregressor&#x27;, RandomForestRegressor())])</pre></div></div></div><div class=\"sk-serial\"><div class=\"sk-item sk-dashed-wrapped\"><div class=\"sk-label-container\"><div class=\"sk-label sk-toggleable\"><input class=\"sk-toggleable__control sk-hidden--visually\" id=\"sk-estimator-id-2\" type=\"checkbox\" ><label for=\"sk-estimator-id-2\" class=\"sk-toggleable__label sk-toggleable__label-arrow\">columntransformer: ColumnTransformer</label><div class=\"sk-toggleable__content\"><pre>ColumnTransformer(transformers=[(&#x27;num&#x27;, StandardScaler(),\n",
       "                                 [&#x27;titles&#x27;, &#x27;rooms&#x27;, &#x27;areas&#x27;, &#x27;floors&#x27;]),\n",
       "                                (&#x27;cut&#x27;, OneHotEncoder(handle_unknown=&#x27;ignore&#x27;),\n",
       "                                 Index([&#x27;renovations&#x27;, &#x27;materials&#x27;, &#x27;addresses&#x27;], dtype=&#x27;object&#x27;))])</pre></div></div></div><div class=\"sk-parallel\"><div class=\"sk-parallel-item\"><div class=\"sk-item\"><div class=\"sk-label-container\"><div class=\"sk-label sk-toggleable\"><input class=\"sk-toggleable__control sk-hidden--visually\" id=\"sk-estimator-id-3\" type=\"checkbox\" ><label for=\"sk-estimator-id-3\" class=\"sk-toggleable__label sk-toggleable__label-arrow\">num</label><div class=\"sk-toggleable__content\"><pre>[&#x27;titles&#x27;, &#x27;rooms&#x27;, &#x27;areas&#x27;, &#x27;floors&#x27;]</pre></div></div></div><div class=\"sk-serial\"><div class=\"sk-item\"><div class=\"sk-estimator sk-toggleable\"><input class=\"sk-toggleable__control sk-hidden--visually\" id=\"sk-estimator-id-4\" type=\"checkbox\" ><label for=\"sk-estimator-id-4\" class=\"sk-toggleable__label sk-toggleable__label-arrow\">StandardScaler</label><div class=\"sk-toggleable__content\"><pre>StandardScaler()</pre></div></div></div></div></div></div><div class=\"sk-parallel-item\"><div class=\"sk-item\"><div class=\"sk-label-container\"><div class=\"sk-label sk-toggleable\"><input class=\"sk-toggleable__control sk-hidden--visually\" id=\"sk-estimator-id-5\" type=\"checkbox\" ><label for=\"sk-estimator-id-5\" class=\"sk-toggleable__label sk-toggleable__label-arrow\">cut</label><div class=\"sk-toggleable__content\"><pre>Index([&#x27;renovations&#x27;, &#x27;materials&#x27;, &#x27;addresses&#x27;], dtype=&#x27;object&#x27;)</pre></div></div></div><div class=\"sk-serial\"><div class=\"sk-item\"><div class=\"sk-estimator sk-toggleable\"><input class=\"sk-toggleable__control sk-hidden--visually\" id=\"sk-estimator-id-6\" type=\"checkbox\" ><label for=\"sk-estimator-id-6\" class=\"sk-toggleable__label sk-toggleable__label-arrow\">OneHotEncoder</label><div class=\"sk-toggleable__content\"><pre>OneHotEncoder(handle_unknown=&#x27;ignore&#x27;)</pre></div></div></div></div></div></div></div></div><div class=\"sk-item\"><div class=\"sk-estimator sk-toggleable\"><input class=\"sk-toggleable__control sk-hidden--visually\" id=\"sk-estimator-id-7\" type=\"checkbox\" ><label for=\"sk-estimator-id-7\" class=\"sk-toggleable__label sk-toggleable__label-arrow\">RandomForestRegressor</label><div class=\"sk-toggleable__content\"><pre>RandomForestRegressor()</pre></div></div></div></div></div></div></div>"
      ],
      "text/plain": [
       "Pipeline(steps=[('columntransformer',\n",
       "                 ColumnTransformer(transformers=[('num', StandardScaler(),\n",
       "                                                  ['titles', 'rooms', 'areas',\n",
       "                                                   'floors']),\n",
       "                                                 ('cut',\n",
       "                                                  OneHotEncoder(handle_unknown='ignore'),\n",
       "                                                  Index(['renovations', 'materials', 'addresses'], dtype='object'))])),\n",
       "                ('randomforestregressor', RandomForestRegressor())])"
      ]
     },
     "execution_count": 58,
     "metadata": {},
     "output_type": "execute_result"
    }
   ],
   "source": [
    "model.fit(x_train,y_train)"
   ]
  },
  {
   "cell_type": "code",
   "execution_count": 59,
   "id": "7854d3f1-b326-4479-b470-ac7985371bfe",
   "metadata": {},
   "outputs": [],
   "source": [
    "prediction = model.predict(x_test)"
   ]
  },
  {
   "cell_type": "code",
   "execution_count": 60,
   "id": "92e0a6f6-792a-4dba-a5c4-3a864bd2086d",
   "metadata": {},
   "outputs": [
    {
     "name": "stdout",
     "output_type": "stream",
     "text": [
      "RMSE:227699088.37035102\n"
     ]
    }
   ],
   "source": [
    "mse = mean_squared_error(y_test, prediction)\n",
    "print(F\"RMSE:{np.sqrt(mse)}\")"
   ]
  },
  {
   "cell_type": "code",
   "execution_count": null,
   "id": "a9093390-2635-47b0-a775-efc11c505236",
   "metadata": {},
   "outputs": [],
   "source": []
  }
 ],
 "metadata": {
  "kernelspec": {
   "display_name": "anaconda-2024.02-py310",
   "language": "python",
   "name": "conda-env-anaconda-2024.02-py310-py"
  },
  "language_info": {
   "codemirror_mode": {
    "name": "ipython",
    "version": 3
   },
   "file_extension": ".py",
   "mimetype": "text/x-python",
   "name": "python",
   "nbconvert_exporter": "python",
   "pygments_lexer": "ipython3",
   "version": "3.10.14"
  }
 },
 "nbformat": 4,
 "nbformat_minor": 5
}
